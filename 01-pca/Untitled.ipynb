{
 "cells": [
  {
   "cell_type": "code",
   "execution_count": 2,
   "id": "bad28104-7619-4f3b-8f1e-ea984c487efb",
   "metadata": {},
   "outputs": [],
   "source": [
    "# Import needed libs\n",
    "import numpy as np\n",
    "import matplotlib.pyplot as plt\n",
    "from sklearn.datasets import load_digits\n",
    "from sklearn.decomposition import PCA\n",
    "from sklearn.metrics import mean_squared_error"
   ]
  },
  {
   "cell_type": "code",
   "execution_count": 12,
   "id": "0e53665b-7568-456e-8d2d-79ce8037456a",
   "metadata": {},
   "outputs": [
    {
     "name": "stdout",
     "output_type": "stream",
     "text": [
      "original data size is: 0.88 MB\n"
     ]
    }
   ],
   "source": [
    "# Load the digits dataset\n",
    "digits = load_digits()\n",
    "X = digits.data\n",
    "y = digits.target\n",
    "\n",
    "# Original data size\n",
    "original_size = X.nbytes / (1024 * 1024)  # in megabytes\n",
    "print(\"original data size is: %.2f MB\" % original_size)"
   ]
  },
  {
   "cell_type": "code",
   "execution_count": 4,
   "id": "b219a436-90d9-48f5-a236-009eb223331c",
   "metadata": {},
   "outputs": [
    {
     "data": {
      "image/png": "[encoded data removed]",
      "text/plain": [
       "<Figure size 1200x400 with 10 Axes>"
      ]
     },
     "metadata": {},
     "output_type": "display_data"
    }
   ],
   "source": [
    "# Plot the first 10 samples as images\n",
    "fig, axes = plt.subplots(1, 10, figsize=(12, 4))\n",
    "for i in range(10):\n",
    "    axes[i].imshow(X[i].reshape(8, 8), cmap='gray')\n",
    "    axes[i].set_title(f\"Label: {y[i]}\")\n",
    "    axes[i].axis('off')\n",
    "plt.tight_layout()\n",
    "plt.show()"
   ]
  },
  {
   "cell_type": "code",
   "execution_count": 5,
   "id": "3505c2b2-754d-45d6-9221-38ed720a1b49",
   "metadata": {},
   "outputs": [
    {
     "name": "stdout",
     "output_type": "stream",
     "text": [
      "Sample 1:\n",
      "[[ 0.  0.  5. 13.  9.  1.  0.  0.]\n",
      " [ 0.  0. 13. 15. 10. 15.  5.  0.]\n",
      " [ 0.  3. 15.  2.  0. 11.  8.  0.]\n",
      " [ 0.  4. 12.  0.  0.  8.  8.  0.]\n",
      " [ 0.  5.  8.  0.  0.  9.  8.  0.]\n",
      " [ 0.  4. 11.  0.  1. 12.  7.  0.]\n",
      " [ 0.  2. 14.  5. 10. 12.  0.  0.]\n",
      " [ 0.  0.  6. 13. 10.  0.  0.  0.]]\n",
      "Label: 0\n",
      "\n",
      "Sample 2:\n",
      "[[ 0.  0.  0. 12. 13.  5.  0.  0.]\n",
      " [ 0.  0.  0. 11. 16.  9.  0.  0.]\n",
      " [ 0.  0.  3. 15. 16.  6.  0.  0.]\n",
      " [ 0.  7. 15. 16. 16.  2.  0.  0.]\n",
      " [ 0.  0.  1. 16. 16.  3.  0.  0.]\n",
      " [ 0.  0.  1. 16. 16.  6.  0.  0.]\n",
      " [ 0.  0.  1. 16. 16.  6.  0.  0.]\n",
      " [ 0.  0.  0. 11. 16. 10.  0.  0.]]\n",
      "Label: 1\n",
      "\n"
     ]
    }
   ],
   "source": [
    "# Print the first 2 samples in matrix form\n",
    "for i in range(2):\n",
    "    print(f\"Sample {i+1}:\")\n",
    "    sample_matrix = X[i].reshape(8, 8)  # Reshape the row vector to a matrix\n",
    "    print(sample_matrix)\n",
    "    print(f\"Label: {y[i]}\")\n",
    "    print()"
   ]
  },
  {
   "cell_type": "code",
   "execution_count": 13,
   "id": "6ad66dac-dc80-4120-8373-808e89deae45",
   "metadata": {},
   "outputs": [],
   "source": [
    "# Function to calculate reconstruction error\n",
    "def reconstruction_error(original, reconstructed):\n",
    "    return mean_squared_error(original, reconstructed)\n",
    "\n",
    "# Function to perform PCA and reconstruct data with n_components\n",
    "def perform_pca(n_components):\n",
    "    pca = PCA(n_components=n_components)\n",
    "    X_pca = pca.fit_transform(X)\n",
    "    X_reconstructed = pca.inverse_transform(X_pca)\n",
    "    return X_reconstructed, pca"
   ]
  },
  {
   "cell_type": "code",
   "execution_count": 54,
   "id": "0d331a69-23e6-4781-a2dd-32d42881c279",
   "metadata": {},
   "outputs": [],
   "source": [
    "def analyze_pca(n_components):\n",
    "    X_reconstructed, pca = perform_pca(n_components)\n",
    "    reconstruction_error_val = reconstruction_error(X, X_reconstructed)\n",
    "    print(f\"Number of Components: {n_components}, Reconstruction Error: {reconstruction_error_val}\")\n",
    "\n",
    "    # Size of compressed file\n",
    "    compressed_size = (pca.components_.nbytes + pca.mean_.nbytes + X_reconstructed.nbytes) / (1024 * 1024)  # in megabytes\n",
    "    print(f\"Size of Compressed File: {compressed_size} MB\")\n",
    "\n",
    "    # Difference in size\n",
    "    size_difference = original_size - compressed_size\n",
    "    print(f\"Difference in Size: {size_difference} MB\")\n",
    "\n",
    "    # Plot original and reconstructed images for each digit\n",
    "    fig, axes = plt.subplots(2, 10, figsize=(10, 2))\n",
    "    for digit in range(10):\n",
    "        digit_indices = np.where(y == digit)[0]  # Indices of samples with the current digit\n",
    "        original_matrix = X[digit_indices[0]].reshape(8, 8)  # Take the first sample for each digit\n",
    "        reconstructed_matrix = np.round(X_reconstructed[digit_indices[0]].reshape(8, 8), 1)  # Round to one decimal place\n",
    "        axes[0, digit].imshow(original_matrix, cmap='gray')\n",
    "        axes[0, digit].axis('off')\n",
    "        axes[1, digit].imshow(reconstructed_matrix, cmap='gray')\n",
    "        axes[1, digit].axis('off')\n",
    "\n",
    "    plt.suptitle(f'Reconstruction with {n_components} Components')\n",
    "    plt.show()\n",
    "\n",
    "    # Print the first data's matrix\n",
    "    print(\"Original Matrix of the First Data:\")\n",
    "    print(original_matrix)\n",
    "\n",
    "    # Print the reconstruction matrix\n",
    "    print(\"\\nReconstruction Matrix of the First Data:\")\n",
    "    print(reconstructed_matrix)\n"
   ]
  },
  {
   "cell_type": "code",
   "execution_count": 56,
   "id": "56205537-85df-4e05-bacf-bd81a948f513",
   "metadata": {
    "scrolled": true
   },
   "outputs": [
    {
     "name": "stdout",
     "output_type": "stream",
     "text": [
      "Number of Components: 4, Reconstruction Error: 9.627986407130757\n",
      "Size of Compressed File: 0.8798828125 MB\n",
      "Difference in Size: -0.00244140625 MB\n"
     ]
    },
    {
     "data": {
      "image/png": "[encoded data removed]",
      "text/plain": [
       "<Figure size 1000x200 with 20 Axes>"
      ]
     },
     "metadata": {},
     "output_type": "display_data"
    },
    {
     "name": "stdout",
     "output_type": "stream",
     "text": [
      "Original Matrix of the First Data:\n",
      "[[ 0.  0. 11. 12.  0.  0.  0.  0.]\n",
      " [ 0.  2. 16. 16. 16. 13.  0.  0.]\n",
      " [ 0.  3. 16. 12. 10. 14.  0.  0.]\n",
      " [ 0.  1. 16.  1. 12. 15.  0.  0.]\n",
      " [ 0.  0. 13. 16.  9. 15.  2.  0.]\n",
      " [ 0.  0.  0.  3.  0.  9. 11.  0.]\n",
      " [ 0.  0.  0.  0.  9. 15.  4.  0.]\n",
      " [ 0.  0.  9. 12. 13.  3.  0.  0.]]\n",
      "\n",
      "Reconstruction Matrix of the First Data:\n",
      "[[ 0.   0.2  5.  11.4 12.2  6.5  1.3  0.1]\n",
      " [ 0.   1.9 11.  10.7 10.2 10.3  2.1  0.1]\n",
      " [ 0.   2.8 10.5  5.7  6.4 10.4  2.5  0.1]\n",
      " [-0.   2.7  9.3  8.   9.5 10.2  3.2  0. ]\n",
      " [ 0.   2.3  6.3  5.2  7.8 11.6  4.3  0. ]\n",
      " [ 0.   1.5  5.5  2.7  4.6 11.3  5.3  0. ]\n",
      " [ 0.   0.7  7.6  6.9  8.4 11.9  4.5  0.1]\n",
      " [ 0.   0.1  5.2 12.  13.3  8.3  1.8  0.3]]\n"
     ]
    }
   ],
   "source": [
    "analyze_pca(4)"
   ]
  },
  {
   "cell_type": "markdown",
   "id": "efd3a236",
   "metadata": {},
   "source": [
    "## Maunal way to calculate"
   ]
  },
  {
   "cell_type": "code",
   "execution_count": 72,
   "id": "b4b0c5f1",
   "metadata": {},
   "outputs": [
    {
     "name": "stdout",
     "output_type": "stream",
     "text": [
      "[ 0.  0.  5. 13.  9.  1.  0.  0.  0.  0. 13. 15. 10. 15.  5.  0.  0.  3.\n",
      " 15.  2.  0. 11.  8.  0.  0.  4. 12.  0.  0.  8.  8.  0.  0.  5.  8.  0.\n",
      "  0.  9.  8.  0.  0.  4. 11.  0.  1. 12.  7.  0.  0.  2. 14.  5. 10. 12.\n",
      "  0.  0.  0.  0.  6. 13. 10.  0.  0.  0.]\n",
      "(64,)\n",
      "   0    0    5   13    9    1    0    0\n",
      "   0    0   13   15   10   15    5    0\n",
      "   0    3   15    2    0   11    8    0\n",
      "   0    4   12    0    0    8    8    0\n",
      "   0    5    8    0    0    9    8    0\n",
      "   0    4   11    0    1   12    7    0\n",
      "   0    2   14    5   10   12    0    0\n",
      "   0    0    6   13   10    0    0    0\n"
     ]
    },
    {
     "data": {
      "image/png": "[encoded data removed]",
      "text/plain": [
       "<Figure size 640x480 with 1 Axes>"
      ]
     },
     "metadata": {},
     "output_type": "display_data"
    }
   ],
   "source": [
    "# Then use step-by-step wat to calculate the PCA steps;\n",
    "# Take the first data point for analysis\n",
    "first_data = X[0]\n",
    "print(X[0])\n",
    "print(X[0].shape)\n",
    "\n",
    "# Reshape the data point into a 2D array (image)\n",
    "original_matrix = first_data.reshape(8, 8)\n",
    "\n",
    "for row in original_matrix:\n",
    "    print(\" \".join(f\"{val:4.0f}\" for val in row))\n",
    "\n",
    "# Print the original matrix (image)\n",
    "plt.imshow(original_matrix, cmap='gray')\n",
    "plt.title(\"Original Matrix (Image)\")\n",
    "plt.axis('off')\n",
    "plt.show()"
   ]
  },
  {
   "cell_type": "code",
   "execution_count": 76,
   "id": "75bae736",
   "metadata": {},
   "outputs": [
    {
     "name": "stdout",
     "output_type": "stream",
     "text": [
      "\n",
      "X^T * X:\n",
      "[[  0.   0.   0.   0.   0.   0.   0.   0.]\n",
      " [  0.   0.  39.  60.  50.  60.  10.   0.]\n",
      " [  0.  39. 225.  24.   0. 121. 112.   0.]\n",
      " [  0.  60.  24.   0.   0.   0.  40.   0.]\n",
      " [  0.  50.   0.   0.   0.   9.  80.   0.]\n",
      " [  0.  60. 121.   0.   9. 144.  84.   0.]\n",
      " [  0.  10. 112.  40.  80.  84.   0.   0.]\n",
      " [  0.   0.   0.   0.   0.   0.   0.   0.]]\n",
      "(8, 8)\n"
     ]
    }
   ],
   "source": [
    "# Transpose X\n",
    "X_transpose = original_matrix.T\n",
    "\n",
    "# Calculate X^T * X\n",
    "XTX = np.multiply(X_transpose, original_matrix)\n",
    "\n",
    "# Print the result\n",
    "# print(XTX.shape)\n",
    "print(\"\\nX^T * X:\")\n",
    "print(XTX)\n",
    "\n",
    "# Step 1: Calculate the covariance matrix\n",
    "covariance_matrix = np.cov(X_transpose)\n",
    "\n",
    "print(covariance_matrix.shape)"
   ]
  },
  {
   "cell_type": "code",
   "execution_count": 77,
   "id": "f188e1e9",
   "metadata": {},
   "outputs": [
    {
     "name": "stdout",
     "output_type": "stream",
     "text": [
      "\n",
      "Step 2: Eigenvalues\n",
      "[8.92158455e+01 3.14545089e+01 7.61850164e+00 2.85144338e+00\n",
      " 2.01453633e-01 1.53898738e-02 0.00000000e+00 0.00000000e+00]\n",
      "\n",
      "Step 2: Eigenvectors\n",
      "[[ 0.          0.          0.          0.          0.          0.\n",
      "   1.          0.        ]\n",
      " [-0.20365153  0.09344175  0.07506402 -0.23052329 -0.41043409 -0.85003703\n",
      "   0.          0.        ]\n",
      " [-0.22550077 -0.48188982  0.20855091  0.79993174 -0.1168451  -0.14104805\n",
      "   0.          0.        ]\n",
      " [ 0.65318552 -0.28875672 -0.59464342  0.12374602  0.11324705 -0.32898247\n",
      "   0.          0.        ]\n",
      " [ 0.48997693 -0.31860576  0.39448425 -0.20610464 -0.63307453  0.24399318\n",
      "   0.          0.        ]\n",
      " [-0.33563583 -0.75773097 -0.0607778  -0.49775699  0.24837474  0.00681139\n",
      "   0.          0.        ]\n",
      " [-0.35818338 -0.00212894 -0.66178497  0.03760326 -0.58531429  0.29955628\n",
      "   0.          0.        ]\n",
      " [ 0.          0.          0.          0.          0.          0.\n",
      "   0.          1.        ]]\n",
      "\n",
      "Step 3: Decoding Matrix\n",
      "[[ 0.        ]\n",
      " [-0.20365153]\n",
      " [-0.22550077]\n",
      " [ 0.65318552]\n",
      " [ 0.48997693]\n",
      " [-0.33563583]\n",
      " [-0.35818338]\n",
      " [ 0.        ]]\n"
     ]
    },
    {
     "ename": "ValueError",
     "evalue": "shapes (1,8) and (64,) not aligned: 8 (dim 1) != 64 (dim 0)",
     "output_type": "error",
     "traceback": [
      "\u001b[0;31m---------------------------------------------------------------------------\u001b[0m",
      "\u001b[0;31mValueError\u001b[0m                                Traceback (most recent call last)",
      "\u001b[1;32m/home/m/Documents/github/blog-notebook/01-pca/Untitled.ipynb Cell 11\u001b[0m line \u001b[0;36m2\n\u001b[1;32m     <a href='vscode-notebook-cell:/home/m/Documents/github/blog-notebook/01-pca/Untitled.ipynb#X16sZmlsZQ%3D%3D?line=19'>20</a>\u001b[0m \u001b[39mprint\u001b[39m(decoding_matrix)\n\u001b[1;32m     <a href='vscode-notebook-cell:/home/m/Documents/github/blog-notebook/01-pca/Untitled.ipynb#X16sZmlsZQ%3D%3D?line=21'>22</a>\u001b[0m \u001b[39m# Step 4: Reconstruct the data point using the decoding matrix\u001b[39;00m\n\u001b[0;32m---> <a href='vscode-notebook-cell:/home/m/Documents/github/blog-notebook/01-pca/Untitled.ipynb#X16sZmlsZQ%3D%3D?line=22'>23</a>\u001b[0m reconstructed_data \u001b[39m=\u001b[39m np\u001b[39m.\u001b[39mdot(decoding_matrix, decoding_matrix\u001b[39m.\u001b[39;49mT\u001b[39m.\u001b[39;49mdot(first_data))\n\u001b[1;32m     <a href='vscode-notebook-cell:/home/m/Documents/github/blog-notebook/01-pca/Untitled.ipynb#X16sZmlsZQ%3D%3D?line=24'>25</a>\u001b[0m \u001b[39m# Reshape the reconstructed data into a 2D array (image)\u001b[39;00m\n\u001b[1;32m     <a href='vscode-notebook-cell:/home/m/Documents/github/blog-notebook/01-pca/Untitled.ipynb#X16sZmlsZQ%3D%3D?line=25'>26</a>\u001b[0m reconstructed_matrix \u001b[39m=\u001b[39m reconstructed_data\u001b[39m.\u001b[39mreshape(\u001b[39m8\u001b[39m, \u001b[39m8\u001b[39m)\n",
      "\u001b[0;31mValueError\u001b[0m: shapes (1,8) and (64,) not aligned: 8 (dim 1) != 64 (dim 0)"
     ]
    }
   ],
   "source": [
    "\n",
    "# Step 2: Calculate the eigenvalues and eigenvectors of the covariance matrix\n",
    "eigenvalues, eigenvectors = np.linalg.eig(covariance_matrix)\n",
    "\n",
    "# Print the eigenvalues\n",
    "print(\"\\nStep 2: Eigenvalues\")\n",
    "print(eigenvalues)\n",
    "\n",
    "# Print the eigenvectors\n",
    "print(\"\\nStep 2: Eigenvectors\")\n",
    "print(eigenvectors)\n",
    "\n",
    "# Find the index of the largest eigenvalue\n",
    "largest_eigenvalue_index = np.argmax(eigenvalues)\n",
    "\n",
    "# Step 3: Use the eigenvector corresponding to the largest eigenvalue to form the decoding matrix\n",
    "decoding_matrix = eigenvectors[:, largest_eigenvalue_index].reshape(-1, 1)\n",
    "\n",
    "# Print the decoding matrix\n",
    "print(\"\\nStep 3: Decoding Matrix\")\n",
    "print(decoding_matrix)\n",
    "\n",
    "# Step 4: Reconstruct the data point using the decoding matrix\n",
    "reconstructed_data = np.dot(decoding_matrix, decoding_matrix.T.dot(first_data))\n",
    "\n",
    "# Reshape the reconstructed data into a 2D array (image)\n",
    "reconstructed_matrix = reconstructed_data.reshape(8, 8)\n",
    "\n",
    "# Print the reconstructed matrix\n",
    "print(\"\\nStep 4: Reconstructed Matrix\")\n",
    "print(reconstructed_matrix)\n",
    "\n",
    "# Plot the reconstructed matrix (image)\n",
    "plt.imshow(reconstructed_matrix, cmap='gray')\n",
    "plt.title(\"Reconstructed Matrix (Image)\")\n",
    "plt.axis('off')\n",
    "plt.show()"
   ]
  }
 ],
 "metadata": {
  "kernelspec": {
   "display_name": "blogpy38",
   "language": "python",
   "name": "blogpy38"
  },
  "language_info": {
   "codemirror_mode": {
    "name": "ipython",
    "version": 3
   },
   "file_extension": ".py",
   "mimetype": "text/x-python",
   "name": "python",
   "nbconvert_exporter": "python",
   "pygments_lexer": "ipython3",
   "version": "3.8.19"
  }
 },
 "nbformat": 4,
 "nbformat_minor": 5
}
