{
 "cells": [
  {
   "cell_type": "markdown",
   "id": "6112a958",
   "metadata": {},
   "source": [
    "Use PCA tool from sklearn library, visualize the PCA performance"
   ]
  },
  {
   "cell_type": "code",
   "execution_count": 1,
   "id": "bad28104-7619-4f3b-8f1e-ea984c487efb",
   "metadata": {},
   "outputs": [],
   "source": [
    "import numpy as np\n",
    "import matplotlib.pyplot as plt\n",
    "from sklearn.datasets import load_digits\n",
    "from sklearn.decomposition import PCA\n",
    "from sklearn.metrics import mean_squared_error"
   ]
  },
  {
   "cell_type": "code",
   "execution_count": 2,
   "id": "0e53665b-7568-456e-8d2d-79ce8037456a",
   "metadata": {},
   "outputs": [],
   "source": [
    "# Load the digits dataset\n",
    "digits = load_digits()\n",
    "X = digits.data\n",
    "y = digits.target\n",
    "\n",
    "# Original data size\n",
    "original_size = X.nbytes / (1024 * 1024)  # in megabytes\n",
    "print(\"original data size is: %.2f MB\" % original_size)"
   ]
  },
  {
   "cell_type": "code",
   "execution_count": 3,
   "id": "b219a436-90d9-48f5-a236-009eb223331c",
   "metadata": {},
   "outputs": [
    {
     "data": {
      "image/png": "[encoded data removed]",
      "text/plain": [
       "<Figure size 1200x400 with 5 Axes>"
      ]
     },
     "metadata": {},
     "output_type": "display_data"
    }
   ],
   "source": [
    "# Plot the first 5 samples as images\n",
    "fig, axes = plt.subplots(1, 5, figsize=(12, 4))\n",
    "for i in range(5):\n",
    "    axes[i].imshow(X[i].reshape(8, 8), cmap='gray')\n",
    "    axes[i].set_title(f\"Label: {y[i]}\")\n",
    "    axes[i].axis('off')\n",
    "plt.tight_layout()\n",
    "plt.show()"
   ]
  },
  {
   "cell_type": "code",
   "execution_count": 4,
   "id": "3505c2b2-754d-45d6-9221-38ed720a1b49",
   "metadata": {},
   "outputs": [
    {
     "name": "stdout",
     "output_type": "stream",
     "text": [
      "Sample 1:\n",
      "[[ 0.  0.  5. 13.  9.  1.  0.  0.]\n",
      " [ 0.  0. 13. 15. 10. 15.  5.  0.]\n",
      " [ 0.  3. 15.  2.  0. 11.  8.  0.]\n",
      " [ 0.  4. 12.  0.  0.  8.  8.  0.]\n",
      " [ 0.  5.  8.  0.  0.  9.  8.  0.]\n",
      " [ 0.  4. 11.  0.  1. 12.  7.  0.]\n",
      " [ 0.  2. 14.  5. 10. 12.  0.  0.]\n",
      " [ 0.  0.  6. 13. 10.  0.  0.  0.]]\n",
      "Label: 0\n",
      "\n"
     ]
    }
   ],
   "source": [
    "# Print the first sample in matrix form\n",
    "for i in range(1):\n",
    "    print(f\"Sample {i+1}:\")\n",
    "    sample_matrix = X[i].reshape(8, 8)  # Reshape the row vector to a matrix\n",
    "    print(sample_matrix)\n",
    "    print(f\"Label: {y[i]}\")\n",
    "    print()"
   ]
  },
  {
   "cell_type": "code",
   "execution_count": 5,
   "id": "6ad66dac-dc80-4120-8373-808e89deae45",
   "metadata": {},
   "outputs": [],
   "source": [
    "# Function to calculate reconstruction error\n",
    "def reconstruction_error(original, reconstructed):\n",
    "    return mean_squared_error(original, reconstructed)\n",
    "\n",
    "# Function to perform PCA and reconstruct data with n_components\n",
    "def perform_pca(n_components):\n",
    "    pca = PCA(n_components=n_components)\n",
    "    X_pca = pca.fit_transform(X)\n",
    "    X_reconstructed = pca.inverse_transform(X_pca)\n",
    "    return X_reconstructed, pca\n",
    "\n",
    "# Original data size\n",
    "original_size = X.nbytes / (1024 * 1024)  # in megabytes"
   ]
  },
  {
   "cell_type": "code",
   "execution_count": 6,
   "id": "0d331a69-23e6-4781-a2dd-32d42881c279",
   "metadata": {},
   "outputs": [
    {
     "ename": "NameError",
     "evalue": "name 'components_to_consider' is not defined",
     "output_type": "error",
     "traceback": [
      "\u001b[0;31m---------------------------------------------------------------------------\u001b[0m",
      "\u001b[0;31mNameError\u001b[0m                                 Traceback (most recent call last)",
      "\u001b[1;32m/home/m/Documents/github/blog-notebook/01-pca/.ipynb_checkpoints/pca.ipynb Cell 7\u001b[0m line \u001b[0;36m2\n\u001b[1;32m      <a href='vscode-notebook-cell:/home/m/Documents/github/blog-notebook/01-pca/.ipynb_checkpoints/pca.ipynb#W5sZmlsZQ%3D%3D?line=0'>1</a>\u001b[0m \u001b[39m# Function for showing the PCA performance by input the number of principle components\u001b[39;00m\n\u001b[0;32m----> <a href='vscode-notebook-cell:/home/m/Documents/github/blog-notebook/01-pca/.ipynb_checkpoints/pca.ipynb#W5sZmlsZQ%3D%3D?line=1'>2</a>\u001b[0m \u001b[39mfor\u001b[39;00m n_components \u001b[39min\u001b[39;00m components_to_consider:\n\u001b[1;32m      <a href='vscode-notebook-cell:/home/m/Documents/github/blog-notebook/01-pca/.ipynb_checkpoints/pca.ipynb#W5sZmlsZQ%3D%3D?line=2'>3</a>\u001b[0m     X_reconstructed, pca \u001b[39m=\u001b[39m perform_pca(n_components)\n\u001b[1;32m      <a href='vscode-notebook-cell:/home/m/Documents/github/blog-notebook/01-pca/.ipynb_checkpoints/pca.ipynb#W5sZmlsZQ%3D%3D?line=3'>4</a>\u001b[0m     reconstruction_error_val \u001b[39m=\u001b[39m reconstruction_error(X, X_reconstructed)\n",
      "\u001b[0;31mNameError\u001b[0m: name 'components_to_consider' is not defined"
     ]
    }
   ],
   "source": [
    "# Function for showing the PCA performance by input the number of principle components\n",
    "for n_components in components_to_consider:\n",
    "    X_reconstructed, pca = perform_pca(n_components)\n",
    "    reconstruction_error_val = reconstruction_error(X, X_reconstructed)\n",
    "    print(f\"Number of Components: {n_components}, Reconstruction Error: {reconstruction_error_val}\")\n",
    "\n",
    "    # Size of compressed file\n",
    "    compressed_size = (pca.components_.nbytes + pca.mean_.nbytes + X_reconstructed.nbytes) / (1024 * 1024)  # in megabytes\n",
    "    print(f\"Size of Compressed File: {compressed_size} MB\")\n",
    "\n",
    "    # Difference in size\n",
    "    size_difference = original_size - compressed_size\n",
    "    print(f\"Difference in Size: {size_difference} MB\")\n",
    "\n",
    "    # Print original, reconstructed, and principal component for digit 0\n",
    "    print(\"\\nExample for Digit 0:\")\n",
    "    for i in range(len(X)):\n",
    "        if y[i] == 0:\n",
    "            original_matrix = X[i].reshape(8, 8)\n",
    "            reconstructed_matrix = np.round(X_reconstructed[i].reshape(8, 8), 2)  # Round to two decimal places\n",
    "            compressed_matrix = np.round(np.dot(pca.transform(X[i:i+1]), pca.components_) + pca.mean_, 2).reshape(8, 8) # Round to two decimal places\n",
    "            principal_component_vector = pca.components_[:, 0]  # Assuming first principal component\n",
    "            print(\"Original Matrix:\")\n",
    "            print(original_matrix)\n",
    "            print(\"\\nReconstructed Matrix:\")\n",
    "            print(reconstructed_matrix)\n",
    "            print(\"\\nCompressed Matrix:\")\n",
    "            print(compressed_matrix)\n",
    "            print(\"\\nPrincipal Component Vector:\")\n",
    "            print(principal_component_vector)\n",
    "            break  # Break after finding one example of digit 0\n",
    "\n",
    "    # Plot original and reconstructed images\n",
    "    fig, axes = plt.subplots(2, 10, figsize=(10, 2))\n",
    "    for i in range(10):\n",
    "        axes[0, i].imshow(original_matrix, cmap='gray')\n",
    "        axes[0, i].axis('off')\n",
    "        axes[1, i].imshow(reconstructed_matrix, cmap='gray')\n",
    "        axes[1, i].axis('off')\n",
    "    plt.suptitle(f'Reconstruction with {n_components} Components')\n",
    "    plt.show()\n",
    "\n"
   ]
  },
  {
   "cell_type": "code",
   "execution_count": null,
   "id": "28baa990-224c-46a9-9a33-fe9d791bcb64",
   "metadata": {},
   "outputs": [],
   "source": []
  },
  {
   "cell_type": "code",
   "execution_count": null,
   "id": "97cfd4f0-2d98-4967-a56e-258de17fd24c",
   "metadata": {},
   "outputs": [],
   "source": []
  },
  {
   "cell_type": "code",
   "execution_count": null,
   "id": "dc3c466b-d490-48e7-b03c-7150c3aa08fb",
   "metadata": {},
   "outputs": [],
   "source": []
  }
 ],
 "metadata": {
  "kernelspec": {
   "display_name": "blogpy38",
   "language": "python",
   "name": "blogpy38"
  },
  "language_info": {
   "codemirror_mode": {
    "name": "ipython",
    "version": 3
   },
   "file_extension": ".py",
   "mimetype": "text/x-python",
   "name": "python",
   "nbconvert_exporter": "python",
   "pygments_lexer": "ipython3",
   "version": "3.8.19"
  }
 },
 "nbformat": 4,
 "nbformat_minor": 5
}
